{
 "cells": [
  {
   "cell_type": "code",
   "execution_count": 1,
   "metadata": {},
   "outputs": [
    {
     "name": "stdout",
     "output_type": "stream",
     "text": [
      "TF imported with eager execution!\n"
     ]
    }
   ],
   "source": [
    "from __future__ import print_function\n",
    "import tensorflow as tf\n",
    "try:\n",
    "  tf.contrib.eager.enable_eager_execution()\n",
    "  print(\"TF imported with eager execution!\")\n",
    "except ValueError:\n",
    "  print(\"TF already imported with eager execution!\")"
   ]
  },
  {
   "cell_type": "code",
   "execution_count": 2,
   "metadata": {},
   "outputs": [
    {
     "name": "stdout",
     "output_type": "stream",
     "text": [
      "primes: tf.Tensor([ 2  3  5  7 11 13], shape=(6,), dtype=int32)\n",
      "one: tf.Tensor(1, shape=(), dtype=int32)\n",
      "just_beyond_primes: tf.Tensor([ 3  4  6  8 12 14], shape=(6,), dtype=int32)\n",
      "primes_doubled: tf.Tensor([ 4  6 10 14 22 26], shape=(6,), dtype=int32)\n"
     ]
    }
   ],
   "source": [
    "primes = tf.constant([2, 3, 5, 7, 11, 13], dtype=tf.int32)\n",
    "print(\"primes:\", primes)\n",
    "\n",
    "one = tf.constant(1, dtype=tf.int32)\n",
    "print(\"one:\", one)\n",
    "\n",
    "just_beyond_primes = tf.add(primes, one)\n",
    "print(\"just_beyond_primes:\", just_beyond_primes)\n",
    "\n",
    "two = tf.constant(2, dtype=tf.int32)\n",
    "primes_doubled = primes * two\n",
    "print(\"primes_doubled:\", primes_doubled)"
   ]
  },
  {
   "cell_type": "code",
   "execution_count": 4,
   "metadata": {},
   "outputs": [
    {
     "name": "stdout",
     "output_type": "stream",
     "text": [
      "tf.Tensor([  4   9  25  49 121 169], shape=(6,), dtype=int32)\n",
      "tf.Tensor([  3   8  24  48 120 168], shape=(6,), dtype=int32)\n"
     ]
    }
   ],
   "source": [
    "squared_primes = tf.pow(primes, two, name=\"powered\")\n",
    "print(squared_primes)\n",
    "just_under_primes_squared = tf.subtract(squared_primes, one)\n",
    "print(just_under_primes_squared)"
   ]
  },
  {
   "cell_type": "code",
   "execution_count": 5,
   "metadata": {},
   "outputs": [
    {
     "name": "stdout",
     "output_type": "stream",
     "text": [
      "Original matrix (8x2):\n",
      "[[ 1  2]\n",
      " [ 3  4]\n",
      " [ 5  6]\n",
      " [ 7  8]\n",
      " [ 9 10]\n",
      " [11 12]\n",
      " [13 14]\n",
      " [15 16]]\n",
      "Reshaped matrix (2x8):\n",
      "[[ 1  2  3  4  5  6  7  8]\n",
      " [ 9 10 11 12 13 14 15 16]]\n",
      "Reshaped matrix (4x4):\n",
      "[[ 1  2  3  4]\n",
      " [ 5  6  7  8]\n",
      " [ 9 10 11 12]\n",
      " [13 14 15 16]]\n"
     ]
    }
   ],
   "source": [
    "# Create an 8x2 matrix (2-D tensor).\n",
    "matrix = tf.constant(\n",
    "    [[1, 2], [3, 4], [5, 6], [7, 8], [9, 10], [11, 12], [13, 14], [15, 16]],\n",
    "    dtype=tf.int32)\n",
    "\n",
    "reshaped_2x8_matrix = tf.reshape(matrix, [2, 8])\n",
    "reshaped_4x4_matrix = tf.reshape(matrix, [4, 4])\n",
    "\n",
    "print(\"Original matrix (8x2):\")\n",
    "print(matrix.numpy())\n",
    "print(\"Reshaped matrix (2x8):\")\n",
    "print(reshaped_2x8_matrix.numpy())\n",
    "print(\"Reshaped matrix (4x4):\")\n",
    "print(reshaped_4x4_matrix.numpy())"
   ]
  },
  {
   "cell_type": "code",
   "execution_count": 6,
   "metadata": {},
   "outputs": [
    {
     "name": "stdout",
     "output_type": "stream",
     "text": [
      "Original matrix (8x2):\n",
      "[[ 1  2]\n",
      " [ 3  4]\n",
      " [ 5  6]\n",
      " [ 7  8]\n",
      " [ 9 10]\n",
      " [11 12]\n",
      " [13 14]\n",
      " [15 16]]\n",
      "Reshaped 3-D tensor (2x2x4):\n",
      "[[[ 1  2  3  4]\n",
      "  [ 5  6  7  8]]\n",
      "\n",
      " [[ 9 10 11 12]\n",
      "  [13 14 15 16]]]\n",
      "1-D vector:\n",
      "[ 1  2  3  4  5  6  7  8  9 10 11 12 13 14 15 16]\n"
     ]
    }
   ],
   "source": [
    "# Create an 8x2 matrix (2-D tensor).\n",
    "matrix = tf.constant(\n",
    "    [[1, 2], [3, 4], [5, 6], [7, 8], [9, 10], [11, 12], [13, 14], [15, 16]],\n",
    "    dtype=tf.int32)\n",
    "\n",
    "reshaped_2x2x4_tensor = tf.reshape(matrix, [2, 2, 4])\n",
    "one_dimensional_vector = tf.reshape(matrix, [16])\n",
    "\n",
    "print(\"Original matrix (8x2):\")\n",
    "print(matrix.numpy())\n",
    "print(\"Reshaped 3-D tensor (2x2x4):\")\n",
    "print(reshaped_2x2x4_tensor.numpy())\n",
    "print(\"1-D vector:\")\n",
    "print(one_dimensional_vector.numpy())"
   ]
  },
  {
   "cell_type": "code",
   "execution_count": 12,
   "metadata": {},
   "outputs": [
    {
     "name": "stdout",
     "output_type": "stream",
     "text": [
      "tf.Tensor(\n",
      "[[5 3 2]\n",
      " [7 1 4]], shape=(2, 3), dtype=int32) tf.Tensor(\n",
      "[[4]\n",
      " [6]\n",
      " [3]], shape=(3, 1), dtype=int32)\n",
      "tf.Tensor(\n",
      "[[44]\n",
      " [46]], shape=(2, 1), dtype=int32)\n"
     ]
    }
   ],
   "source": [
    "a = tf.constant([5, 3, 2, 7, 1, 4])\n",
    "b = tf.constant([4, 6, 3])\n",
    "\n",
    "a_2x3 = tf.reshape(a, [2, 3])\n",
    "b_3x1 = tf.reshape(b, [3, 1])\n",
    "print(a_2x3, b_3x1)\n",
    "multiplied_matrix = tf.matmul(a_2x3, b_3x1)\n",
    "print(multiplied_matrix)"
   ]
  },
  {
   "cell_type": "code",
   "execution_count": 13,
   "metadata": {},
   "outputs": [
    {
     "name": "stdout",
     "output_type": "stream",
     "text": [
      "v: [3]\n",
      "w: [[0.8776236 0.5179493 0.7946292 1.2376225]]\n"
     ]
    }
   ],
   "source": [
    "# Create a scalar variable with the initial value 3.\n",
    "v = tf.contrib.eager.Variable([3])\n",
    "\n",
    "# Create a vector variable of shape [1, 4], with random initial values,\n",
    "# sampled from a normal distribution with mean 1 and standard deviation 0.35.\n",
    "w = tf.contrib.eager.Variable(tf.random_normal([1, 4], mean=1.0, stddev=0.35))\n",
    "\n",
    "print(\"v:\", v.numpy())\n",
    "print(\"w:\", w.numpy())"
   ]
  },
  {
   "cell_type": "code",
   "execution_count": 14,
   "metadata": {},
   "outputs": [
    {
     "name": "stdout",
     "output_type": "stream",
     "text": [
      "[3]\n",
      "[7]\n",
      "[5]\n"
     ]
    }
   ],
   "source": [
    "v = tf.contrib.eager.Variable([3])\n",
    "print(v.numpy())\n",
    "\n",
    "tf.assign(v, [7])\n",
    "print(v.numpy())\n",
    "\n",
    "v.assign([5])\n",
    "print(v.numpy())"
   ]
  },
  {
   "cell_type": "code",
   "execution_count": 15,
   "metadata": {},
   "outputs": [
    {
     "name": "stdout",
     "output_type": "stream",
     "text": [
      "[[1 2 3]\n",
      " [4 5 6]]\n",
      "Assigning [7, 8, 9] to v\n",
      "Exception: Shapes (2, 3) and (3,) are incompatible\n"
     ]
    }
   ],
   "source": [
    "v = tf.contrib.eager.Variable([[1, 2, 3], [4, 5, 6]])\n",
    "print(v.numpy())\n",
    "\n",
    "try:\n",
    "    print(\"Assigning [7, 8, 9] to v\")\n",
    "    v.assign([7, 8, 9])\n",
    "except ValueError as e:\n",
    "    print(\"Exception:\", e)"
   ]
  },
  {
   "cell_type": "code",
   "execution_count": 16,
   "metadata": {},
   "outputs": [
    {
     "name": "stdout",
     "output_type": "stream",
     "text": [
      "[[2 6 8]\n",
      " [4 1 5]\n",
      " [3 3 6]\n",
      " [3 1 4]\n",
      " [2 5 7]\n",
      " [4 3 7]\n",
      " [2 4 6]\n",
      " [3 6 9]\n",
      " [5 4 9]\n",
      " [1 6 7]]\n"
     ]
    }
   ],
   "source": [
    "# Task: Simulate 10 throws of two dice. Store the results in a 10x3 matrix.\n",
    "\n",
    "die1 = tf.contrib.eager.Variable(\n",
    "    tf.random_uniform([10, 1], minval=1, maxval=7, dtype=tf.int32))\n",
    "die2 = tf.contrib.eager.Variable(\n",
    "    tf.random_uniform([10, 1], minval=1, maxval=7, dtype=tf.int32))\n",
    "\n",
    "dice_sum = tf.add(die1, die2)\n",
    "resulting_matrix = tf.concat(values=[die1, die2, dice_sum], axis=1)\n",
    "\n",
    "print(resulting_matrix.numpy())"
   ]
  },
  {
   "cell_type": "code",
   "execution_count": null,
   "metadata": {},
   "outputs": [],
   "source": []
  }
 ],
 "metadata": {
  "kernelspec": {
   "display_name": "Python 2",
   "language": "python",
   "name": "python2"
  },
  "language_info": {
   "codemirror_mode": {
    "name": "ipython",
    "version": 2
   },
   "file_extension": ".py",
   "mimetype": "text/x-python",
   "name": "python",
   "nbconvert_exporter": "python",
   "pygments_lexer": "ipython2",
   "version": "2.7.15rc1"
  }
 },
 "nbformat": 4,
 "nbformat_minor": 2
}
