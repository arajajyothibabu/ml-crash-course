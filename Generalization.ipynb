{
 "cells": [
  {
   "cell_type": "markdown",
   "metadata": {},
   "source": [
    "**Generalization** refers to your model's ability to adapt properly to new, previously unseen data, drawn from the same distribution as the one used to create the model."
   ]
  },
  {
   "cell_type": "markdown",
   "metadata": {},
   "source": [
    "**Ockham's razor in machine learning terms:**\n",
    "\n",
    "> The less complex an ML model, the more likely that a good empirical result is not just due to the peculiarities of the sample."
   ]
  },
  {
   "cell_type": "markdown",
   "metadata": {},
   "source": [
    "In modern times, we've formalized Ockham's razor into the fields of **statistical learning theory** and **computational learning theory**. These fields have developed **generalization bounds** --a statistical description of a model's ability to generalize to new data based on factors such as:\n",
    "\n",
    "- the complexity of the model\n",
    "- the model's performance on training data\n",
    "\n",
    "While the theoretical analysis provides formal guarantees under idealized assumptions, they can be difficult to apply in practice.\n",
    "\n",
    "A machine learning model aims to make good predictions on new, previously unseen data. But if you are building a model from your data set, how would you get the previously unseen data? Well, one way is to divide your data set into two subsets:\n",
    "\n",
    "- **training set** —a subset to train a model.\n",
    "- **test set** —a subset to test the model.\n",
    "\n",
    "Good performance on the test set is a useful indicator of good performance on the new data in general, assuming that:\n",
    "\n",
    "- The test set is large enough.\n",
    "- You don't cheat by using the same test set over and over."
   ]
  },
  {
   "cell_type": "markdown",
   "metadata": {},
   "source": [
    "### The ML fine print\n",
    "The following three basic assumptions guide generalization:\n",
    "\n",
    "- We draw examples independently and identically (i.i.d) at random from the distribution. In other words, examples don't influence each other. (An alternate explanation: i.i.d. is a way of referring to the randomness of variables.)\n",
    "- The distribution is stationary; that is the distribution doesn't change within the data set.\n",
    "- We draw examples from partitions from the same distribution.\n",
    "\n",
    "In practice, we sometimes violate these assumptions. For example:\n",
    "\n",
    "- Consider a model that chooses ads to display. The i.i.d. assumption would be violated if the model bases its choice of ads, in part, on what ads the user has previously seen.\n",
    "- Consider a data set that contains retail sales information for a year. User's purchases change seasonally, which would violate stationarity.\n",
    "\n",
    "When we know that any of the preceding three basic assumptions are violated, we must pay careful attention to metrics."
   ]
  },
  {
   "cell_type": "code",
   "execution_count": null,
   "metadata": {},
   "outputs": [],
   "source": []
  }
 ],
 "metadata": {
  "kernelspec": {
   "display_name": "Python 2",
   "language": "python",
   "name": "python2"
  },
  "language_info": {
   "codemirror_mode": {
    "name": "ipython",
    "version": 2
   },
   "file_extension": ".py",
   "mimetype": "text/x-python",
   "name": "python",
   "nbconvert_exporter": "python",
   "pygments_lexer": "ipython2",
   "version": "2.7.15rc1"
  }
 },
 "nbformat": 4,
 "nbformat_minor": 2
}
