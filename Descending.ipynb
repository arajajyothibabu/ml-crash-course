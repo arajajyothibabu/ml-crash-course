{
 "cells": [
  {
   "cell_type": "markdown",
   "metadata": {},
   "source": [
    "**Training** a model simply means learning (determining) good values for all the weights and the bias from labeled examples. In supervised learning, a machine learning algorithm builds a model by examining many examples and attempting to find a model that minimizes loss; this process is called empirical risk minimization.\n",
    "\n",
    "Loss is the penalty for a bad prediction. That is, loss is a number indicating how bad the model's prediction was on a single example. If the model's prediction is perfect, the loss is zero; otherwise, the loss is greater. The goal of training a model is to find a set of weights and biases that have low loss, on average, across all examples."
   ]
  },
  {
   "cell_type": "markdown",
   "metadata": {},
   "source": [
    "#### Squared loss: a popular loss function\n",
    "The linear regression models we'll examine here use a loss function called squared loss (also known as **L2 loss**). The squared loss for a single example is as follows:\n",
    "\n",
    "```\n",
    " = the square of the difference between the label and the prediction\n",
    " = (observation - prediction(x))2\n",
    " = (y - y')2\n",
    "```\n"
   ]
  },
  {
   "cell_type": "markdown",
   "metadata": {},
   "source": [
    "**Mean square error (MSE)** is the average squared loss per example over the whole dataset. To calculate MSE, sum up all the squared losses for individual examples and then divide by the number of examples:"
   ]
  },
  {
   "cell_type": "markdown",
   "metadata": {},
   "source": [
    "<math xmlns=\"http://www.w3.org/1998/Math/MathML\" display=\"block\">\n",
    "  <mi>M</mi>\n",
    "  <mi>S</mi>\n",
    "  <mi>E</mi>\n",
    "  <mo>=</mo>\n",
    "  <mfrac>\n",
    "    <mn>1</mn>\n",
    "    <mi>N</mi>\n",
    "  </mfrac>\n",
    "  <munder>\n",
    "    <mo>&#x2211;<!-- ∑ --></mo>\n",
    "    <mrow class=\"MJX-TeXAtom-ORD\">\n",
    "      <mo stretchy=\"false\">(</mo>\n",
    "      <mi>x</mi>\n",
    "      <mo>,</mo>\n",
    "      <mi>y</mi>\n",
    "      <mo stretchy=\"false\">)</mo>\n",
    "      <mo>&#x2208;<!-- ∈ --></mo>\n",
    "      <mi>D</mi>\n",
    "    </mrow>\n",
    "  </munder>\n",
    "  <mo stretchy=\"false\">(</mo>\n",
    "  <mi>y</mi>\n",
    "  <mo>&#x2212;<!-- − --></mo>\n",
    "  <mi>p</mi>\n",
    "  <mi>r</mi>\n",
    "  <mi>e</mi>\n",
    "  <mi>d</mi>\n",
    "  <mi>i</mi>\n",
    "  <mi>c</mi>\n",
    "  <mi>t</mi>\n",
    "  <mi>i</mi>\n",
    "  <mi>o</mi>\n",
    "  <mi>n</mi>\n",
    "  <mo stretchy=\"false\">(</mo>\n",
    "  <mi>x</mi>\n",
    "  <mo stretchy=\"false\">)</mo>\n",
    "  <msup>\n",
    "    <mo stretchy=\"false\">)</mo>\n",
    "    <mn>2</mn>\n",
    "  </msup>\n",
    "</math>"
   ]
  },
  {
   "cell_type": "markdown",
   "metadata": {},
   "source": [
    "Although MSE is commonly-used in machine learning, it is neither the only practical loss function nor the best loss function for all circumstances."
   ]
  },
  {
   "cell_type": "code",
   "execution_count": null,
   "metadata": {},
   "outputs": [],
   "source": []
  }
 ],
 "metadata": {
  "kernelspec": {
   "display_name": "Python 2",
   "language": "python",
   "name": "python2"
  },
  "language_info": {
   "codemirror_mode": {
    "name": "ipython",
    "version": 2
   },
   "file_extension": ".py",
   "mimetype": "text/x-python",
   "name": "python",
   "nbconvert_exporter": "python",
   "pygments_lexer": "ipython2",
   "version": "2.7.15rc1"
  }
 },
 "nbformat": 4,
 "nbformat_minor": 2
}
